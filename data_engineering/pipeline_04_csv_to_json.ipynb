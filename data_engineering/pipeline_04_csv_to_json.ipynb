{
 "cells": [
  {
   "cell_type": "markdown",
   "id": "deaad3fb-67f9-42b7-90d8-358844052c72",
   "metadata": {},
   "source": [
    "# Objetivo\n",
    "\n",
    "- Pasar archivos '.csv' to '.json'"
   ]
  },
  {
   "cell_type": "code",
   "execution_count": 1,
   "id": "1e30a0ed-72fe-429c-a13e-63cb7e2fe89a",
   "metadata": {},
   "outputs": [],
   "source": [
    "import pandas as pd\n",
    "import json"
   ]
  },
  {
   "cell_type": "code",
   "execution_count": 3,
   "id": "46467050-46b5-4088-9895-a669513b1624",
   "metadata": {},
   "outputs": [
    {
     "name": "stdout",
     "output_type": "stream",
     "text": [
      "Archivo JSON guardado en: congreso_preguntas/out_001133.json\n"
     ]
    }
   ],
   "source": [
    "def csv_a_json(ruta_csv, ruta_json):\n",
    "    \"\"\"\n",
    "    Función encargada de hacer pasar los archivos csv a json\n",
    "    :ruta_csv:\n",
    "    :ruta_json:\n",
    "    ::\n",
    "    \"\"\"\n",
    "    # Leer el archivo CSV\n",
    "    df = pd.read_csv(ruta_csv, sep=\";\")\n",
    "\n",
    "    # Convertir el DataFrame a JSON\n",
    "    json_str = df.to_json(orient='records', lines=True)\n",
    "\n",
    "    # Guardar el JSON en un archivo\n",
    "    with open(ruta_json, 'w') as json_file:\n",
    "        json_file.write(json_str)\n",
    "\n",
    "    print(f\"Archivo JSON guardado en: {ruta_json}\")\n",
    "\n",
    "# Especificar las rutas de los archivos\n",
    "ruta_csv =  'congreso_preguntas/out_001133.csv'  # Reemplaza esto con la ruta a tu archivo CSV\n",
    "ruta_json = 'congreso_preguntas/out_001133.json'  # Reemplaza esto con la ruta donde quieras guardar el archivo JSON\n",
    "\n",
    "# Convertir CSV a JSON\n",
    "csv_a_json(ruta_csv, ruta_json)"
   ]
  },
  {
   "cell_type": "code",
   "execution_count": null,
   "id": "b398d0da-ba7e-41b9-96d2-c05bffe6111b",
   "metadata": {},
   "outputs": [],
   "source": [
    "# import os\n",
    "# archivos = os.listdir('congreso_preguntas_csv/')\n",
    "# archivos"
   ]
  }
 ],
 "metadata": {
  "kernelspec": {
   "display_name": "Python 3 (ipykernel)",
   "language": "python",
   "name": "python3"
  },
  "language_info": {
   "codemirror_mode": {
    "name": "ipython",
    "version": 3
   },
   "file_extension": ".py",
   "mimetype": "text/x-python",
   "name": "python",
   "nbconvert_exporter": "python",
   "pygments_lexer": "ipython3",
   "version": "3.11.7"
  }
 },
 "nbformat": 4,
 "nbformat_minor": 5
}
